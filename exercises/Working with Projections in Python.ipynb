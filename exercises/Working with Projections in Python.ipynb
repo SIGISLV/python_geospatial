{
 "metadata": {
  "name": "",
  "signature": "sha256:7f089307ae366278e9dcb5b6815fe93c1c8efdd58af1cfa58134d8ce62143b9b"
 },
 "nbformat": 3,
 "nbformat_minor": 0,
 "worksheets": [
  {
   "cells": [
    {
     "cell_type": "markdown",
     "metadata": {},
     "source": [
      "# Working with Projections in Python\n",
      "## Converting Coordinates\n",
      "\n",
      "Here are the x/y coordinates for the Empire State Building in the local State Plane coordinate reference system:\n",
      "\n",
      "`(301211.4076849834, 64602.88651922046)`\n",
      "\n",
      "### 1) Figure out the correct State Plane reference zone, and convert the above coordinates to long/lat (`EPSG: 4326`)"
     ]
    },
    {
     "cell_type": "markdown",
     "metadata": {},
     "source": [
      "Here's a quick example to remind you how this works with `PyProj`:"
     ]
    },
    {
     "cell_type": "code",
     "collapsed": false,
     "input": [
      "from pyproj import Proj\n",
      "p = Proj(init='epsg:3857') # This is Web (Google) Mercator"
     ],
     "language": "python",
     "metadata": {},
     "outputs": []
    },
    {
     "cell_type": "code",
     "collapsed": false,
     "input": [
      "p(-73.985656, 40.748433) # These are the correct long/lat coordinates"
     ],
     "language": "python",
     "metadata": {},
     "outputs": []
    },
    {
     "cell_type": "code",
     "collapsed": false,
     "input": [
      "p(-8236045.551926, 4975306.102820, inverse=True) # These are the coordinates in Web Mercator"
     ],
     "language": "python",
     "metadata": {},
     "outputs": []
    },
    {
     "cell_type": "markdown",
     "metadata": {},
     "source": [
      "There's a handy csv file that contains all state plane coordinate reference systems in the `data` folder. You can load it with `Pandas`."
     ]
    },
    {
     "cell_type": "code",
     "collapsed": false,
     "input": [
      "import pandas as pd\n",
      "import os\n",
      "\n",
      "# Source: http://www.eye4software.com/resources/stateplane/\n",
      "df = pd.read_csv(os.path.join(\"..\", \"data\", \"state_plane_codes.csv\"))"
     ],
     "language": "python",
     "metadata": {},
     "outputs": []
    },
    {
     "cell_type": "markdown",
     "metadata": {},
     "source": [
      "What about EPSG codes for New York?\n",
      "\n",
      "Source: http://www.eye4software.com/resources/stateplane/New_York\n",
      "\n",
      "**Hint**: You can use the DataFrame to figure this out..."
     ]
    },
    {
     "cell_type": "code",
     "collapsed": false,
     "input": [
      "df"
     ],
     "language": "python",
     "metadata": {},
     "outputs": []
    },
    {
     "cell_type": "code",
     "collapsed": false,
     "input": [],
     "language": "python",
     "metadata": {},
     "outputs": []
    }
   ],
   "metadata": {}
  }
 ]
}