{
 "metadata": {
  "name": "",
  "signature": "sha256:f88a118baefbe109ddf2b29ff65dbe6f6504e8bd8c6baf4643a6f4ed02d73e60"
 },
 "nbformat": 3,
 "nbformat_minor": 0,
 "worksheets": [
  {
   "cells": [
    {
     "cell_type": "markdown",
     "metadata": {},
     "source": [
      "# Working with Projections in Python\n",
      "## Converting Coordinates\n",
      "\n",
      "Here are the x/y coordinates for the Empire State Building in the local State Plane coordinate reference system:\n",
      "\n",
      "`(301211.4076849834, 64602.88651922046)`\n",
      "\n",
      "### 1) Figure out the correct State Plane reference zone, and convert the above coordinates to long/lat (`EPSG: 4326`)"
     ]
    },
    {
     "cell_type": "markdown",
     "metadata": {},
     "source": [
      "Here's a quick example to remind you how this works with `PyProj`:"
     ]
    },
    {
     "cell_type": "code",
     "collapsed": false,
     "input": [
      "from pyproj import Proj\n",
      "p = Proj(init='epsg:3857') # This is Web (Google) Mercator"
     ],
     "language": "python",
     "metadata": {},
     "outputs": [],
     "prompt_number": 1
    },
    {
     "cell_type": "code",
     "collapsed": false,
     "input": [
      "p(-73.985656, 40.748433) # These are the correct long/lat coordinates"
     ],
     "language": "python",
     "metadata": {},
     "outputs": [
      {
       "metadata": {},
       "output_type": "pyout",
       "prompt_number": 2,
       "text": [
        "(-8236045.5519263055, 4975306.102820314)"
       ]
      }
     ],
     "prompt_number": 2
    },
    {
     "cell_type": "code",
     "collapsed": false,
     "input": [
      "p(-8236045.551926, 4975306.102820, inverse=True) # These are the coordinates in Web Mercator"
     ],
     "language": "python",
     "metadata": {},
     "outputs": [
      {
       "metadata": {},
       "output_type": "pyout",
       "prompt_number": 3,
       "text": [
        "(-73.98565599999725, 40.74843299999786)"
       ]
      }
     ],
     "prompt_number": 3
    },
    {
     "cell_type": "markdown",
     "metadata": {},
     "source": [
      "There's a handy csv file that contains all state plane coordinate reference systems in the `data` folder. You can load it with `Pandas`."
     ]
    },
    {
     "cell_type": "code",
     "collapsed": false,
     "input": [
      "import pandas as pd\n",
      "import os\n",
      "\n",
      "# Source: http://www.eye4software.com/resources/stateplane/\n",
      "df = pd.read_csv(os.path.join(\"..\", \"data\", \"state_plane_codes.csv\"))"
     ],
     "language": "python",
     "metadata": {},
     "outputs": [],
     "prompt_number": 4
    },
    {
     "cell_type": "markdown",
     "metadata": {},
     "source": [
      "What about EPSG codes for New York?\n",
      "\n",
      "Source: http://www.eye4software.com/resources/stateplane/New_York\n",
      "\n",
      "**Hint**: You can use the DataFrame to figure this out..."
     ]
    },
    {
     "cell_type": "code",
     "collapsed": false,
     "input": [
      "df[df.name.str.contains(\"New York\")]"
     ],
     "language": "python",
     "metadata": {},
     "outputs": [
      {
       "html": [
        "<div style=\"max-height:1000px;max-width:1500px;overflow:auto;\">\n",
        "<table border=\"1\" class=\"dataframe\">\n",
        "  <thead>\n",
        "    <tr style=\"text-align: right;\">\n",
        "      <th></th>\n",
        "      <th>spcs</th>\n",
        "      <th>name</th>\n",
        "      <th>epsg</th>\n",
        "    </tr>\n",
        "  </thead>\n",
        "  <tbody>\n",
        "    <tr>\n",
        "      <th>66 </th>\n",
        "      <td>  3101</td>\n",
        "      <td>        NAD83 / New York East</td>\n",
        "      <td> 32115</td>\n",
        "    </tr>\n",
        "    <tr>\n",
        "      <th>67 </th>\n",
        "      <td>  3102</td>\n",
        "      <td>     NAD83 / New York Central</td>\n",
        "      <td> 32116</td>\n",
        "    </tr>\n",
        "    <tr>\n",
        "      <th>68 </th>\n",
        "      <td>  3103</td>\n",
        "      <td>        NAD83 / New York West</td>\n",
        "      <td> 32117</td>\n",
        "    </tr>\n",
        "    <tr>\n",
        "      <th>69 </th>\n",
        "      <td>  3104</td>\n",
        "      <td> NAD83 / New York Long Island</td>\n",
        "      <td> 32118</td>\n",
        "    </tr>\n",
        "    <tr>\n",
        "      <th>195</th>\n",
        "      <td> 13101</td>\n",
        "      <td>        NAD27 / New York East</td>\n",
        "      <td> 32015</td>\n",
        "    </tr>\n",
        "    <tr>\n",
        "      <th>196</th>\n",
        "      <td> 13102</td>\n",
        "      <td>     NAD27 / New York Central</td>\n",
        "      <td> 32016</td>\n",
        "    </tr>\n",
        "    <tr>\n",
        "      <th>197</th>\n",
        "      <td> 13103</td>\n",
        "      <td>        NAD27 / New York West</td>\n",
        "      <td> 32017</td>\n",
        "    </tr>\n",
        "    <tr>\n",
        "      <th>198</th>\n",
        "      <td> 13104</td>\n",
        "      <td> NAD27 / New York Long Island</td>\n",
        "      <td> 32018</td>\n",
        "    </tr>\n",
        "  </tbody>\n",
        "</table>\n",
        "</div>"
       ],
       "metadata": {},
       "output_type": "pyout",
       "prompt_number": 5,
       "text": [
        "      spcs                          name   epsg\n",
        "66    3101         NAD83 / New York East  32115\n",
        "67    3102      NAD83 / New York Central  32116\n",
        "68    3103         NAD83 / New York West  32117\n",
        "69    3104  NAD83 / New York Long Island  32118\n",
        "195  13101         NAD27 / New York East  32015\n",
        "196  13102      NAD27 / New York Central  32016\n",
        "197  13103         NAD27 / New York West  32017\n",
        "198  13104  NAD27 / New York Long Island  32018"
       ]
      }
     ],
     "prompt_number": 5
    },
    {
     "cell_type": "code",
     "collapsed": false,
     "input": [
      "# Manhattan is in \"New York Long Island\"\n",
      "p = Proj(init=\"epsg:32118\")\n",
      "p(301211.4076849834, 64602.88651922046, inverse=True)"
     ],
     "language": "python",
     "metadata": {},
     "outputs": [
      {
       "metadata": {},
       "output_type": "pyout",
       "prompt_number": 6,
       "text": [
        "(-73.985656, 40.74843299999984)"
       ]
      }
     ],
     "prompt_number": 6
    }
   ],
   "metadata": {}
  }
 ]
}